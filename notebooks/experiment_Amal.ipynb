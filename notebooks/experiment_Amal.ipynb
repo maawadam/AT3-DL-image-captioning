{
 "cells": [
  {
   "cell_type": "code",
   "execution_count": 25,
   "id": "2cbeab0c",
   "metadata": {},
   "outputs": [],
   "source": [
    "import sys\n",
    "sys.path.append(\"..\")  "
   ]
  },
  {
   "cell_type": "code",
   "execution_count": 41,
   "id": "bcc0c770",
   "metadata": {},
   "outputs": [],
   "source": [
    "import json\n",
    "import pickle\n",
    "from pathlib import Path\n",
    "\n",
    "import numpy as np\n",
    "import torch\n",
    "from torch.nn.utils.rnn import pad_sequence\n",
    "import torch.nn as nn\n",
    "import torchvision.models as models\n",
    "from torch.utils.data import DataLoader\n",
    "\n",
    "\n",
    "from utils.dataloader import get_transforms, load_split_ids, build_caption_dataset\n",
    "from utils.caption_dataset import CaptionDataset"
   ]
  },
  {
   "cell_type": "code",
   "execution_count": 27,
   "id": "92fd60f7",
   "metadata": {},
   "outputs": [],
   "source": [
    "# Load vocabulary\n",
    "with open(\"../data/processed/word2idx.json\", \"r\") as f:\n",
    "    word2idx = json.load(f)\n",
    "\n",
    "# Load image-caption sequences (already tokenized and cleaned)\n",
    "with open(\"../data/processed/image_caption_seqs.pkl\", \"rb\") as f:\n",
    "    image_caption_seqs = pickle.load(f)"
   ]
  },
  {
   "cell_type": "code",
   "execution_count": 28,
   "id": "c4b33923",
   "metadata": {},
   "outputs": [],
   "source": [
    "# Load official splits\n",
    "train_ids = load_split_ids(\"../data/Flickr8k_text/Flickr_8k.trainImages.txt\")\n",
    "val_ids   = load_split_ids(\"../data/Flickr8k_text/Flickr_8k.devImages.txt\")\n",
    "test_ids  = load_split_ids(\"../data/Flickr8k_text/Flickr_8k.testImages.txt\")"
   ]
  },
  {
   "cell_type": "code",
   "execution_count": 29,
   "id": "65931e1a",
   "metadata": {},
   "outputs": [],
   "source": [
    "# Set image folder path\n",
    "image_folder = \"../data/Flicker8k_Dataset\"\n",
    "\n",
    "# Define transforms\n",
    "transform_train = get_transforms(\"train\")\n",
    "transform_val   = get_transforms(\"val\")\n",
    "\n",
    "# Build datasets using shared util function\n",
    "train_dataset = build_caption_dataset(train_ids, image_caption_seqs, word2idx, image_folder, transform_train)\n",
    "val_dataset   = build_caption_dataset(val_ids, image_caption_seqs, word2idx, image_folder, transform_val)\n",
    "test_dataset  = build_caption_dataset(test_ids, image_caption_seqs, word2idx, image_folder, transform_val)"
   ]
  },
  {
   "cell_type": "code",
   "execution_count": 30,
   "id": "5f2591d8",
   "metadata": {},
   "outputs": [],
   "source": [
    "class EncoderCNN(nn.Module):\n",
    "    def __init__(self, encoded_image_size=14, fine_tune=True):\n",
    "        super(EncoderCNN, self).__init__()\n",
    "        self.enc_image_size = encoded_image_size\n",
    "\n",
    "        resnet = models.resnet101(pretrained=True)\n",
    "        # Remove linear and pooling layers (classifier)\n",
    "        modules = list(resnet.children())[:-2]\n",
    "        self.resnet = nn.Sequential(*modules)\n",
    "\n",
    "        # Adaptive pooling to ensure fixed size output\n",
    "        self.adaptive_pool = nn.AdaptiveAvgPool2d((encoded_image_size, encoded_image_size))\n",
    "\n",
    "        self.fine_tune(fine_tune)\n",
    "\n",
    "    def forward(self, images):\n",
    "        out = self.resnet(images)               # (batch_size, 2048, H, W)\n",
    "        out = self.adaptive_pool(out)           # (batch_size, 2048, encoded_image_size, encoded_image_size)\n",
    "        out = out.permute(0, 2, 3, 1)           # (batch_size, enc_size, enc_size, 2048)\n",
    "        return out\n",
    "\n",
    "    def fine_tune(self, fine_tune=True):\n",
    "        for p in self.resnet.parameters():\n",
    "            p.requires_grad = False\n",
    "\n",
    "        # Unfreeze layer4 and onwards for fine-tuning\n",
    "        if fine_tune:\n",
    "            for c in list(self.resnet.children())[5:]:\n",
    "                for p in c.parameters():\n",
    "                    p.requires_grad = True"
   ]
  },
  {
   "cell_type": "code",
   "execution_count": 31,
   "id": "a62b77de",
   "metadata": {},
   "outputs": [],
   "source": [
    "class Attention(nn.Module):\n",
    "    def __init__(self, encoder_dim, hidden_dim, attention_dim):\n",
    "        super(Attention, self).__init__()\n",
    "        self.encoder_att = nn.Linear(encoder_dim, attention_dim)\n",
    "        self.decoder_att = nn.Linear(hidden_dim, attention_dim)\n",
    "        self.full_att = nn.Linear(attention_dim, 1)\n",
    "        self.relu = nn.ReLU()\n",
    "        self.softmax = nn.Softmax(dim=1)\n",
    "\n",
    "    def forward(self, encoder_out, decoder_hidden):\n",
    "        \"\"\"\n",
    "        encoder_out: (batch_size, num_pixels, encoder_dim)\n",
    "        decoder_hidden: (batch_size, hidden_dim)\n",
    "        \"\"\"\n",
    "        att1 = self.encoder_att(encoder_out)       # (batch_size, num_pixels, attention_dim)\n",
    "        att2 = self.decoder_att(decoder_hidden).unsqueeze(1)  # (batch_size, 1, attention_dim)\n",
    "        att = self.full_att(self.relu(att1 + att2)).squeeze(2)  # (batch_size, num_pixels)\n",
    "        alpha = self.softmax(att)                  # (batch_size, num_pixels)\n",
    "        context = (encoder_out * alpha.unsqueeze(2)).sum(dim=1)  # (batch_size, encoder_dim)\n",
    "        return context, alpha"
   ]
  },
  {
   "cell_type": "code",
   "execution_count": 32,
   "id": "42199d36",
   "metadata": {},
   "outputs": [],
   "source": [
    "class DecoderRNNWithAttention(nn.Module):\n",
    "    def __init__(self, attention_dim, embed_dim, hidden_dim, vocab_size, encoder_dim=2048, dropout=0.5):\n",
    "        super(DecoderRNNWithAttention, self).__init__()\n",
    "\n",
    "        self.encoder_dim = encoder_dim\n",
    "        self.embed_dim = embed_dim\n",
    "        self.hidden_dim = hidden_dim\n",
    "        self.vocab_size = vocab_size\n",
    "        self.dropout = dropout\n",
    "        self.attention = Attention(encoder_dim, hidden_dim, attention_dim)\n",
    "\n",
    "        self.embedding = nn.Embedding(vocab_size, embed_dim)\n",
    "        self.dropout_layer = nn.Dropout(p=dropout)\n",
    "\n",
    "        self.decode_step = nn.LSTMCell(embed_dim + encoder_dim, hidden_dim, bias=True)\n",
    "        self.init_h = nn.Linear(encoder_dim, hidden_dim)\n",
    "        self.init_c = nn.Linear(encoder_dim, hidden_dim)\n",
    "\n",
    "        self.fc = nn.Linear(hidden_dim, vocab_size)\n",
    "\n",
    "    def forward(self, encoder_out, captions):\n",
    "        \"\"\"\n",
    "        encoder_out: (batch_size, enc_size, enc_size, encoder_dim)\n",
    "        captions: (batch_size, max_len)\n",
    "        \"\"\"\n",
    "        batch_size = captions.size(0)\n",
    "        vocab_size = self.vocab_size\n",
    "        max_len = captions.size(1)\n",
    "\n",
    "        # Flatten spatial features\n",
    "        encoder_out = encoder_out.view(batch_size, -1, self.encoder_dim)  # (batch_size, num_pixels, encoder_dim)\n",
    "        num_pixels = encoder_out.size(1)\n",
    "\n",
    "        embeddings = self.embedding(captions)  # (batch_size, max_len, embed_dim)\n",
    "\n",
    "        h, c = self.init_hidden_state(encoder_out.mean(dim=1))  # init with mean-pooled image\n",
    "\n",
    "        outputs = torch.zeros(batch_size, max_len, vocab_size).to(captions.device)\n",
    "\n",
    "        for t in range(max_len):\n",
    "            context, _ = self.attention(encoder_out, h)\n",
    "            lstm_input = torch.cat([embeddings[:, t, :], context], dim=1)\n",
    "            h, c = self.decode_step(lstm_input, (h, c))\n",
    "            preds = self.fc(self.dropout_layer(h))\n",
    "            outputs[:, t, :] = preds\n",
    "\n",
    "        return outputs\n",
    "\n",
    "    def init_hidden_state(self, mean_encoder_out):\n",
    "        h = self.init_h(mean_encoder_out)\n",
    "        c = self.init_c(mean_encoder_out)\n",
    "        return h, c"
   ]
  },
  {
   "cell_type": "code",
   "execution_count": 33,
   "id": "29591283",
   "metadata": {},
   "outputs": [],
   "source": [
    "from nltk.translate.bleu_score import corpus_bleu\n",
    "from tqdm import tqdm\n",
    "\n",
    "def train_model(model, train_dataset, val_dataset, word2idx, device='cuda', \n",
    "                batch_size=32, epochs=20, patience=3, lr=1e-4):\n",
    "    from torch.utils.data import DataLoader\n",
    "    import torch.nn as nn\n",
    "    import numpy as np\n",
    "    import torch\n",
    "\n",
    "    pad_idx = word2idx['<pad>']\n",
    "    criterion = nn.CrossEntropyLoss(ignore_index=pad_idx)\n",
    "    optimizer = torch.optim.Adam(model.parameters(), lr=lr)\n",
    "    scheduler = torch.optim.lr_scheduler.ReduceLROnPlateau(\n",
    "        optimizer, mode='min', patience=2, factor=0.5\n",
    ")\n",
    "    train_loader = DataLoader(train_dataset, batch_size=batch_size, shuffle=True, drop_last=True)\n",
    "    val_loader = DataLoader(val_dataset, batch_size=batch_size, shuffle=False)\n",
    "\n",
    "    best_val_loss = float('inf')\n",
    "    patience_counter = 0\n",
    "\n",
    "    for epoch in range(epochs):\n",
    "        model.train()\n",
    "        train_losses = []\n",
    "\n",
    "        tqdm_train = tqdm(train_loader, desc=f\"Epoch {epoch+1} [Training]\")\n",
    "        for images, captions, _ in tqdm_train:\n",
    "            images, captions = images.to(device), captions.to(device)\n",
    "\n",
    "            optimizer.zero_grad()\n",
    "            outputs = model(images, captions[:, :-1])\n",
    "            loss = criterion(outputs.reshape(-1, outputs.size(-1)), captions[:, 1:].reshape(-1))\n",
    "            loss.backward()\n",
    "            optimizer.step()\n",
    "\n",
    "            train_losses.append(loss.item())\n",
    "            tqdm_train.set_postfix(loss=np.mean(train_losses))\n",
    "\n",
    "        avg_train_loss = np.mean(train_losses)\n",
    "\n",
    "        # Validation\n",
    "        model.eval()\n",
    "        val_losses = []\n",
    "        references = []\n",
    "        hypotheses = []\n",
    "\n",
    "        tqdm_val = tqdm(val_loader, desc=f\"Epoch {epoch+1} [Validation]\")\n",
    "        with torch.no_grad():\n",
    "            for images, captions, lengths in tqdm_val:\n",
    "                images, captions = images.to(device), captions.to(device)\n",
    "                outputs = model(images, captions[:, :-1])\n",
    "                loss = criterion(outputs.reshape(-1, outputs.size(-1)), captions[:, 1:].reshape(-1))\n",
    "                val_losses.append(loss.item())\n",
    "\n",
    "                # BLEU prep\n",
    "                preds = torch.argmax(outputs, dim=2)\n",
    "                for ref, pred in zip(captions, preds):\n",
    "                    ref_tokens = [w for w in ref.tolist() if w not in {pad_idx, word2idx['<start>'], word2idx['<end>']}]\n",
    "                    pred_tokens = [w for w in pred.tolist() if w not in {pad_idx, word2idx['<start>'], word2idx['<end>']}]\n",
    "                    references.append([ref_tokens])\n",
    "                    hypotheses.append(pred_tokens)\n",
    "\n",
    "        avg_val_loss = np.mean(val_losses)\n",
    "        scheduler.step(avg_val_loss)\n",
    "\n",
    "        bleu1 = corpus_bleu(references, hypotheses, weights=(1, 0, 0, 0))\n",
    "        bleu2 = corpus_bleu(references, hypotheses, weights=(0.5, 0.5, 0, 0))\n",
    "        bleu3 = corpus_bleu(references, hypotheses, weights=(0.33, 0.33, 0.33, 0))\n",
    "        bleu4 = corpus_bleu(references, hypotheses, weights=(0.25, 0.25, 0.25, 0.25))\n",
    "\n",
    "        print(f\"\\nEpoch {epoch+1}: Train Loss = {avg_train_loss:.4f}, Val Loss = {avg_val_loss:.4f}\")\n",
    "        print(f\"BLEU-1 = {bleu1:.4f}, BLEU-2 = {bleu2:.4f}, BLEU-3 = {bleu3:.4f}, BLEU-4 = {bleu4:.4f}\")\n",
    "\n",
    "        if avg_val_loss < best_val_loss:\n",
    "            best_val_loss = avg_val_loss\n",
    "            patience_counter = 0\n",
    "            torch.save(model.state_dict(), \"best_model.pt\")\n",
    "        else:\n",
    "            patience_counter += 1\n",
    "            if patience_counter >= patience:\n",
    "                print(f\"Early stopping triggered at epoch {epoch+1}\")\n",
    "                break\n",
    "\n",
    "    print(\"Training complete.\")\n",
    "    return model"
   ]
  },
  {
   "cell_type": "code",
   "execution_count": 34,
   "id": "4f3e8fd1",
   "metadata": {},
   "outputs": [
    {
     "name": "stdout",
     "output_type": "stream",
     "text": [
      "Using device: mps\n"
     ]
    }
   ],
   "source": [
    "import torch\n",
    "\n",
    "device = torch.device(\"mps\" if torch.backends.mps.is_available() else \"cuda\" if torch.cuda.is_available() else \"cpu\")\n",
    "print(\"Using device:\", device)"
   ]
  },
  {
   "cell_type": "code",
   "execution_count": 35,
   "id": "2e084c12",
   "metadata": {},
   "outputs": [],
   "source": [
    "class CaptioningModel(nn.Module):\n",
    "    def __init__(self, encoder, decoder):\n",
    "        super(CaptioningModel, self).__init__()\n",
    "        self.encoder = encoder\n",
    "        self.decoder = decoder\n",
    "\n",
    "    def forward(self, images, captions):\n",
    "        encoder_out = self.encoder(images)\n",
    "        outputs = self.decoder(encoder_out, captions)\n",
    "        return outputs"
   ]
  },
  {
   "cell_type": "code",
   "execution_count": 36,
   "id": "d9a4c85b",
   "metadata": {},
   "outputs": [
    {
     "name": "stderr",
     "output_type": "stream",
     "text": [
      "Epoch 1 [Training]: 100%|██████████| 3750/3750 [34:30<00:00,  1.81it/s, loss=4.17]\n",
      "Epoch 1 [Validation]: 100%|██████████| 625/625 [01:37<00:00,  6.41it/s]\n"
     ]
    },
    {
     "name": "stdout",
     "output_type": "stream",
     "text": [
      "\n",
      "Epoch 1: Train Loss = 4.1693, Val Loss = 3.6511\n",
      "BLEU-1 = 0.3213, BLEU-2 = 0.1658, BLEU-3 = 0.0885, BLEU-4 = 0.0470\n"
     ]
    },
    {
     "name": "stderr",
     "output_type": "stream",
     "text": [
      "Epoch 2 [Training]: 100%|██████████| 3750/3750 [34:23<00:00,  1.82it/s, loss=3.48]\n",
      "Epoch 2 [Validation]: 100%|██████████| 625/625 [01:35<00:00,  6.52it/s]\n"
     ]
    },
    {
     "name": "stdout",
     "output_type": "stream",
     "text": [
      "\n",
      "Epoch 2: Train Loss = 3.4759, Val Loss = 3.3423\n",
      "BLEU-1 = 0.3516, BLEU-2 = 0.1890, BLEU-3 = 0.1047, BLEU-4 = 0.0575\n"
     ]
    },
    {
     "name": "stderr",
     "output_type": "stream",
     "text": [
      "Epoch 3 [Training]: 100%|██████████| 3750/3750 [34:04<00:00,  1.83it/s, loss=3.2] \n",
      "Epoch 3 [Validation]: 100%|██████████| 625/625 [01:40<00:00,  6.21it/s]\n"
     ]
    },
    {
     "name": "stdout",
     "output_type": "stream",
     "text": [
      "\n",
      "Epoch 3: Train Loss = 3.2002, Val Loss = 3.1870\n",
      "BLEU-1 = 0.3692, BLEU-2 = 0.2015, BLEU-3 = 0.1130, BLEU-4 = 0.0631\n"
     ]
    },
    {
     "name": "stderr",
     "output_type": "stream",
     "text": [
      "Epoch 4 [Training]: 100%|██████████| 3750/3750 [34:28<00:00,  1.81it/s, loss=3.02]\n",
      "Epoch 4 [Validation]: 100%|██████████| 625/625 [01:38<00:00,  6.35it/s]\n"
     ]
    },
    {
     "name": "stdout",
     "output_type": "stream",
     "text": [
      "\n",
      "Epoch 4: Train Loss = 3.0214, Val Loss = 3.0859\n",
      "BLEU-1 = 0.3832, BLEU-2 = 0.2136, BLEU-3 = 0.1227, BLEU-4 = 0.0689\n"
     ]
    },
    {
     "name": "stderr",
     "output_type": "stream",
     "text": [
      "Epoch 5 [Training]: 100%|██████████| 3750/3750 [34:46<00:00,  1.80it/s, loss=2.89]\n",
      "Epoch 5 [Validation]: 100%|██████████| 625/625 [01:35<00:00,  6.53it/s]\n"
     ]
    },
    {
     "name": "stdout",
     "output_type": "stream",
     "text": [
      "\n",
      "Epoch 5: Train Loss = 2.8861, Val Loss = 3.0114\n",
      "BLEU-1 = 0.3897, BLEU-2 = 0.2206, BLEU-3 = 0.1289, BLEU-4 = 0.0727\n"
     ]
    },
    {
     "name": "stderr",
     "output_type": "stream",
     "text": [
      "Epoch 6 [Training]: 100%|██████████| 3750/3750 [34:04<00:00,  1.83it/s, loss=2.77]\n",
      "Epoch 6 [Validation]: 100%|██████████| 625/625 [01:36<00:00,  6.51it/s]\n"
     ]
    },
    {
     "name": "stdout",
     "output_type": "stream",
     "text": [
      "\n",
      "Epoch 6: Train Loss = 2.7734, Val Loss = 2.9563\n",
      "BLEU-1 = 0.3923, BLEU-2 = 0.2209, BLEU-3 = 0.1291, BLEU-4 = 0.0726\n"
     ]
    },
    {
     "name": "stderr",
     "output_type": "stream",
     "text": [
      "Epoch 7 [Training]: 100%|██████████| 3750/3750 [34:21<00:00,  1.82it/s, loss=2.68]\n",
      "Epoch 7 [Validation]: 100%|██████████| 625/625 [01:36<00:00,  6.45it/s]\n"
     ]
    },
    {
     "name": "stdout",
     "output_type": "stream",
     "text": [
      "\n",
      "Epoch 7: Train Loss = 2.6814, Val Loss = 2.9325\n",
      "BLEU-1 = 0.3806, BLEU-2 = 0.2162, BLEU-3 = 0.1270, BLEU-4 = 0.0713\n"
     ]
    },
    {
     "name": "stderr",
     "output_type": "stream",
     "text": [
      "Epoch 8 [Training]: 100%|██████████| 3750/3750 [34:05<00:00,  1.83it/s, loss=2.6] \n",
      "Epoch 8 [Validation]: 100%|██████████| 625/625 [01:36<00:00,  6.48it/s]\n"
     ]
    },
    {
     "name": "stdout",
     "output_type": "stream",
     "text": [
      "\n",
      "Epoch 8: Train Loss = 2.5981, Val Loss = 2.9032\n",
      "BLEU-1 = 0.4048, BLEU-2 = 0.2324, BLEU-3 = 0.1386, BLEU-4 = 0.0810\n"
     ]
    },
    {
     "name": "stderr",
     "output_type": "stream",
     "text": [
      "Epoch 9 [Training]: 100%|██████████| 3750/3750 [34:04<00:00,  1.83it/s, loss=2.52]\n",
      "Epoch 9 [Validation]: 100%|██████████| 625/625 [01:37<00:00,  6.44it/s]\n"
     ]
    },
    {
     "name": "stdout",
     "output_type": "stream",
     "text": [
      "\n",
      "Epoch 9: Train Loss = 2.5228, Val Loss = 2.8905\n",
      "BLEU-1 = 0.4049, BLEU-2 = 0.2337, BLEU-3 = 0.1388, BLEU-4 = 0.0805\n"
     ]
    },
    {
     "name": "stderr",
     "output_type": "stream",
     "text": [
      "Epoch 10 [Training]: 100%|██████████| 3750/3750 [34:23<00:00,  1.82it/s, loss=2.46]\n",
      "Epoch 10 [Validation]: 100%|██████████| 625/625 [01:36<00:00,  6.50it/s]\n"
     ]
    },
    {
     "name": "stdout",
     "output_type": "stream",
     "text": [
      "\n",
      "Epoch 10: Train Loss = 2.4570, Val Loss = 2.8565\n",
      "BLEU-1 = 0.4088, BLEU-2 = 0.2363, BLEU-3 = 0.1415, BLEU-4 = 0.0817\n"
     ]
    },
    {
     "name": "stderr",
     "output_type": "stream",
     "text": [
      "Epoch 11 [Training]: 100%|██████████| 3750/3750 [34:11<00:00,  1.83it/s, loss=2.39]\n",
      "Epoch 11 [Validation]: 100%|██████████| 625/625 [01:35<00:00,  6.53it/s]\n"
     ]
    },
    {
     "name": "stdout",
     "output_type": "stream",
     "text": [
      "\n",
      "Epoch 11: Train Loss = 2.3935, Val Loss = 2.8507\n",
      "BLEU-1 = 0.4130, BLEU-2 = 0.2401, BLEU-3 = 0.1455, BLEU-4 = 0.0857\n"
     ]
    },
    {
     "name": "stderr",
     "output_type": "stream",
     "text": [
      "Epoch 12 [Training]: 100%|██████████| 3750/3750 [34:12<00:00,  1.83it/s, loss=2.34]\n",
      "Epoch 12 [Validation]: 100%|██████████| 625/625 [01:36<00:00,  6.49it/s]\n"
     ]
    },
    {
     "name": "stdout",
     "output_type": "stream",
     "text": [
      "\n",
      "Epoch 12: Train Loss = 2.3376, Val Loss = 2.8476\n",
      "BLEU-1 = 0.4085, BLEU-2 = 0.2364, BLEU-3 = 0.1415, BLEU-4 = 0.0829\n"
     ]
    },
    {
     "name": "stderr",
     "output_type": "stream",
     "text": [
      "Epoch 13 [Training]: 100%|██████████| 3750/3750 [34:06<00:00,  1.83it/s, loss=2.28]\n",
      "Epoch 13 [Validation]: 100%|██████████| 625/625 [01:36<00:00,  6.47it/s]\n"
     ]
    },
    {
     "name": "stdout",
     "output_type": "stream",
     "text": [
      "\n",
      "Epoch 13: Train Loss = 2.2791, Val Loss = 2.8478\n",
      "BLEU-1 = 0.4149, BLEU-2 = 0.2423, BLEU-3 = 0.1476, BLEU-4 = 0.0873\n"
     ]
    },
    {
     "name": "stderr",
     "output_type": "stream",
     "text": [
      "Epoch 14 [Training]: 100%|██████████| 3750/3750 [34:19<00:00,  1.82it/s, loss=2.23]\n",
      "Epoch 14 [Validation]: 100%|██████████| 625/625 [01:36<00:00,  6.49it/s]\n"
     ]
    },
    {
     "name": "stdout",
     "output_type": "stream",
     "text": [
      "\n",
      "Epoch 14: Train Loss = 2.2279, Val Loss = 2.8331\n",
      "BLEU-1 = 0.4133, BLEU-2 = 0.2395, BLEU-3 = 0.1433, BLEU-4 = 0.0837\n"
     ]
    },
    {
     "name": "stderr",
     "output_type": "stream",
     "text": [
      "Epoch 15 [Training]: 100%|██████████| 3750/3750 [34:14<00:00,  1.83it/s, loss=2.18]\n",
      "Epoch 15 [Validation]: 100%|██████████| 625/625 [01:35<00:00,  6.52it/s]\n"
     ]
    },
    {
     "name": "stdout",
     "output_type": "stream",
     "text": [
      "\n",
      "Epoch 15: Train Loss = 2.1785, Val Loss = 2.8393\n",
      "BLEU-1 = 0.4102, BLEU-2 = 0.2383, BLEU-3 = 0.1441, BLEU-4 = 0.0844\n"
     ]
    },
    {
     "name": "stderr",
     "output_type": "stream",
     "text": [
      "Epoch 16 [Training]: 100%|██████████| 3750/3750 [34:12<00:00,  1.83it/s, loss=2.13]\n",
      "Epoch 16 [Validation]: 100%|██████████| 625/625 [01:36<00:00,  6.48it/s]\n"
     ]
    },
    {
     "name": "stdout",
     "output_type": "stream",
     "text": [
      "\n",
      "Epoch 16: Train Loss = 2.1299, Val Loss = 2.8470\n",
      "BLEU-1 = 0.4120, BLEU-2 = 0.2424, BLEU-3 = 0.1484, BLEU-4 = 0.0884\n"
     ]
    },
    {
     "name": "stderr",
     "output_type": "stream",
     "text": [
      "Epoch 17 [Training]: 100%|██████████| 3750/3750 [34:20<00:00,  1.82it/s, loss=2.09]\n",
      "Epoch 17 [Validation]: 100%|██████████| 625/625 [01:39<00:00,  6.28it/s]\n"
     ]
    },
    {
     "name": "stdout",
     "output_type": "stream",
     "text": [
      "\n",
      "Epoch 17: Train Loss = 2.0851, Val Loss = 2.8442\n",
      "BLEU-1 = 0.4088, BLEU-2 = 0.2380, BLEU-3 = 0.1439, BLEU-4 = 0.0844\n",
      "Early stopping triggered at epoch 17\n",
      "Training complete.\n"
     ]
    }
   ],
   "source": [
    "# Step 1: Set hyperparameters\n",
    "embed_dim = 256\n",
    "hidden_dim = 512\n",
    "attention_dim = 256\n",
    "dropout = 0.5\n",
    "vocab_size = len(word2idx)\n",
    "\n",
    "# Step 2: Instantiate encoder and decoder\n",
    "encoder = EncoderCNN(encoded_image_size=14, fine_tune=True)\n",
    "decoder = DecoderRNNWithAttention(\n",
    "    attention_dim=attention_dim,\n",
    "    embed_dim=embed_dim,\n",
    "    hidden_dim=hidden_dim,\n",
    "    vocab_size=vocab_size,\n",
    "    encoder_dim=2048,\n",
    "    dropout=dropout\n",
    ")\n",
    "\n",
    "# Step 3: Wrap into model\n",
    "model = CaptioningModel(encoder, decoder).to(device)\n",
    "\n",
    "# Step 4: Train the model\n",
    "trained_model = train_model(\n",
    "    model=model,\n",
    "    train_dataset=train_dataset,\n",
    "    val_dataset=val_dataset,\n",
    "    word2idx=word2idx,\n",
    "    device=device,\n",
    "    batch_size=8,\n",
    "    epochs=20,\n",
    "    patience=3,\n",
    "    lr=1e-4\n",
    ")"
   ]
  },
  {
   "cell_type": "code",
   "execution_count": 38,
   "id": "81d97c68",
   "metadata": {},
   "outputs": [],
   "source": [
    "# Save trained model\n",
    "torch.save(model.state_dict(), \"../data/experiment_camilo_model1.pth\")\n",
    "\n",
    "torch.save(model, \"../data/experiment_camilo_model1_full.pth\")"
   ]
  }
 ],
 "metadata": {
  "kernelspec": {
   "display_name": ".venv",
   "language": "python",
   "name": "python3"
  },
  "language_info": {
   "codemirror_mode": {
    "name": "ipython",
    "version": 3
   },
   "file_extension": ".py",
   "mimetype": "text/x-python",
   "name": "python",
   "nbconvert_exporter": "python",
   "pygments_lexer": "ipython3",
   "version": "3.11.6"
  }
 },
 "nbformat": 4,
 "nbformat_minor": 5
}
